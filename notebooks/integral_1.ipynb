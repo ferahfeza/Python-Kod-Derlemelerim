{
 "cells": [
  {
   "cell_type": "code",
   "execution_count": 5,
   "metadata": {},
   "outputs": [
    {
     "data": {
      "image/png": "[encoded data removed]",
      "text/latex": [
       "$\\displaystyle \\frac{0.564189583547756 \\sqrt{\\pi} x}{d^{3.0} \\sqrt{1 + \\frac{x^{2}}{d^{2}}}}$"
      ],
      "text/plain": [
       "                    ____  -3.0  \n",
       "0.564189583547756*\\/ pi *d    *x\n",
       "--------------------------------\n",
       "               ________         \n",
       "              /      2          \n",
       "             /      x           \n",
       "            /   1 + --          \n",
       "           /         2          \n",
       "         \\/         d           "
      ]
     },
     "execution_count": 5,
     "metadata": {},
     "output_type": "execute_result"
    }
   ],
   "source": [
    "from sympy import *\n",
    "x, d = symbols('x d', real=True)\n",
    "init_printing(use_unicode=False, wrap_line=False, no_global=True) \n",
    "integrate(1/(x**2+d**2)**(3/2), x)"
   ]
  },
  {
   "cell_type": "markdown",
   "metadata": {},
   "source": [
    "$0.564189583547756\\times \\sqrt{\\pi}\\simeq1$\n",
    "$$\\frac{x}{d^2\\sqrt{x^2+d^2}}$$"
   ]
  }
 ],
 "metadata": {
  "kernelspec": {
   "display_name": "Python 3",
   "language": "python",
   "name": "python3"
  },
  "language_info": {
   "codemirror_mode": {
    "name": "ipython",
    "version": 3
   },
   "file_extension": ".py",
   "mimetype": "text/x-python",
   "name": "python",
   "nbconvert_exporter": "python",
   "pygments_lexer": "ipython3",
   "version": "3.10.13"
  }
 },
 "nbformat": 4,
 "nbformat_minor": 2
}
